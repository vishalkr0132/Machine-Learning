{
 "cells": [
  {
   "cell_type": "code",
   "execution_count": null,
   "id": "ee7ecd2d",
   "metadata": {},
   "outputs": [],
   "source": [
    "]:\n",
    "\n",
    "## Encapsulation With Getter And Setter\n",
    "\n",
    "class Person:\n",
    "\n",
    "def __init_(self, name, age):\n",
    "\n",
    "self. name name ## Private access modifier or variable\n",
    "\n",
    "self._age\n",
    "\n",
    "age ## Private variable\n",
    "\n",
    "## getter method for name\n",
    "\n",
    "def get_name(self): return self._name\n",
    "\n",
    "## setter method for name\n",
    "\n",
    "def set_name(self, name):\n",
    "\n",
    "self. name name\n",
    "\n",
    "#Getter method for age\n",
    "\n",
    "def get_age(self): return self._age\n",
    "\n",
    "#Setter method for age\n",
    "\n",
    "def set age(self, age): if age > 0:\n",
    "\n",
    "else:\n",
    "\n",
    "self. age age\n",
    "\n",
    "print(\"Age cannot be negative.\")\n",
    "\n",
    "person-Person(\"Krish\", 34)\n",
    "\n",
    "## Access and modify private variables using getter and setter\n",
    "\n",
    "print(person.get_name())\n",
    "\n",
    "print(person.get_age())\n",
    "\n",
    "person.set_age(35)\n",
    "\n",
    "print(person.get_age())\n",
    "\n",
    "person.set_age(-5)"
   ]
  }
 ],
 "metadata": {
  "kernelspec": {
   "display_name": "Python 3 (ipykernel)",
   "language": "python",
   "name": "python3"
  },
  "language_info": {
   "codemirror_mode": {
    "name": "ipython",
    "version": 3
   },
   "file_extension": ".py",
   "mimetype": "text/x-python",
   "name": "python",
   "nbconvert_exporter": "python",
   "pygments_lexer": "ipython3",
   "version": "3.10.9"
  }
 },
 "nbformat": 4,
 "nbformat_minor": 5
}
