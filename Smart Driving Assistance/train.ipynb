{
 "cells": [
  {
   "cell_type": "code",
   "execution_count": 8,
   "id": "0ae8561f-0a02-4284-b250-5dc7a6a53f81",
   "metadata": {
    "tags": []
   },
   "outputs": [
    {
     "ename": "ModuleNotFoundError",
     "evalue": "No module named 'yolov5.datasets'",
     "output_type": "error",
     "traceback": [
      "\u001b[1;31m---------------------------------------------------------------------------\u001b[0m",
      "\u001b[1;31mModuleNotFoundError\u001b[0m                       Traceback (most recent call last)",
      "Cell \u001b[1;32mIn[8], line 5\u001b[0m\n\u001b[0;32m      3\u001b[0m \u001b[38;5;28;01mimport\u001b[39;00m \u001b[38;5;21;01mtorch\u001b[39;00m\u001b[38;5;21;01m.\u001b[39;00m\u001b[38;5;21;01moptim\u001b[39;00m \u001b[38;5;28;01mas\u001b[39;00m \u001b[38;5;21;01moptim\u001b[39;00m\n\u001b[0;32m      4\u001b[0m \u001b[38;5;28;01mfrom\u001b[39;00m \u001b[38;5;21;01mtorch\u001b[39;00m\u001b[38;5;21;01m.\u001b[39;00m\u001b[38;5;21;01mutils\u001b[39;00m\u001b[38;5;21;01m.\u001b[39;00m\u001b[38;5;21;01mdata\u001b[39;00m \u001b[38;5;28;01mimport\u001b[39;00m DataLoader\n\u001b[1;32m----> 5\u001b[0m \u001b[38;5;28;01mfrom\u001b[39;00m \u001b[38;5;21;01myolov5\u001b[39;00m\u001b[38;5;21;01m.\u001b[39;00m\u001b[38;5;21;01mdatasets\u001b[39;00m \u001b[38;5;28;01mimport\u001b[39;00m LoadImagesAndLabels\n\u001b[0;32m      6\u001b[0m \u001b[38;5;28;01mfrom\u001b[39;00m \u001b[38;5;21;01myolov5\u001b[39;00m\u001b[38;5;21;01m.\u001b[39;00m\u001b[38;5;21;01mmodels\u001b[39;00m \u001b[38;5;28;01mimport\u001b[39;00m YOLOv5s\n",
      "\u001b[1;31mModuleNotFoundError\u001b[0m: No module named 'yolov5.datasets'"
     ]
    }
   ],
   "source": [
    "import torch\n",
    "import torch.nn as nn\n",
    "import torch.optim as optim\n",
    "from torch.utils.data import DataLoader\n",
    "from yolov5.datasets import LoadImagesAndLabels\n",
    "from yolov5.models import YOLOv5s"
   ]
  },
  {
   "cell_type": "code",
   "execution_count": 6,
   "id": "4d205edc-01fd-4c71-92fe-abef81f9d964",
   "metadata": {
    "tags": []
   },
   "outputs": [
    {
     "ename": "NameError",
     "evalue": "name 'YOLOv5s' is not defined",
     "output_type": "error",
     "traceback": [
      "\u001b[1;31m---------------------------------------------------------------------------\u001b[0m",
      "\u001b[1;31mNameError\u001b[0m                                 Traceback (most recent call last)",
      "Cell \u001b[1;32mIn[6], line 1\u001b[0m\n\u001b[1;32m----> 1\u001b[0m model \u001b[38;5;241m=\u001b[39m \u001b[43mYOLOv5s\u001b[49m()\n\u001b[0;32m      2\u001b[0m model\u001b[38;5;241m.\u001b[39mload_state_dict(torch\u001b[38;5;241m.\u001b[39mload(\u001b[38;5;124m'\u001b[39m\u001b[38;5;124myolov5s.pt\u001b[39m\u001b[38;5;124m'\u001b[39m)[\u001b[38;5;124m'\u001b[39m\u001b[38;5;124mmodel\u001b[39m\u001b[38;5;124m'\u001b[39m])\n",
      "\u001b[1;31mNameError\u001b[0m: name 'YOLOv5s' is not defined"
     ]
    }
   ],
   "source": [
    "model = YOLOv5s()\n",
    "model.load_state_dict(torch.load('yolov5s.pt')['model'])"
   ]
  },
  {
   "cell_type": "code",
   "execution_count": 4,
   "id": "f3dca7d4-e1b1-487d-9103-74134ec9e6c8",
   "metadata": {
    "tags": []
   },
   "outputs": [
    {
     "name": "stdout",
     "output_type": "stream",
     "text": [
      "Requirement already satisfied: yolov5 in c:\\users\\yadav\\appdata\\local\\programs\\python\\python38\\lib\\site-packages (7.0.11)"
     ]
    },
    {
     "name": "stderr",
     "output_type": "stream",
     "text": [
      "WARNING: Ignoring invalid distribution -pencv-python-headless (c:\\users\\yadav\\appdata\\roaming\\python\\python38\\site-packages)\n",
      "WARNING: Ignoring invalid distribution -pencv-python-headless (c:\\users\\yadav\\appdata\\roaming\\python\\python38\\site-packages)\n",
      "WARNING: Ignoring invalid distribution -pencv-python-headless (c:\\users\\yadav\\appdata\\roaming\\python\\python38\\site-packages)\n",
      "WARNING: Ignoring invalid distribution -pencv-python-headless (c:\\users\\yadav\\appdata\\roaming\\python\\python38\\site-packages)\n",
      "WARNING: Ignoring invalid distribution -pencv-python-headless (c:\\users\\yadav\\appdata\\roaming\\python\\python38\\site-packages)\n",
      "WARNING: Ignoring invalid distribution -pencv-python-headless (c:\\users\\yadav\\appdata\\roaming\\python\\python38\\site-packages)\n"
     ]
    },
    {
     "name": "stdout",
     "output_type": "stream",
     "text": [
      "\n",
      "Requirement already satisfied: requests>=2.23.0 in c:\\users\\yadav\\appdata\\local\\programs\\python\\python38\\lib\\site-packages (from yolov5) (2.28.2)\n",
      "Requirement already satisfied: torch>=1.7.0 in c:\\users\\yadav\\appdata\\local\\programs\\python\\python38\\lib\\site-packages (from yolov5) (2.0.0)\n",
      "Requirement already satisfied: tensorboard>=2.4.1 in c:\\users\\yadav\\appdata\\local\\programs\\python\\python38\\lib\\site-packages (from yolov5) (2.12.1)\n",
      "Requirement already satisfied: opencv-python>=4.1.1 in c:\\users\\yadav\\appdata\\local\\programs\\python\\python38\\lib\\site-packages (from yolov5) (4.7.0.72)\n",
      "Requirement already satisfied: gitpython in c:\\users\\yadav\\appdata\\local\\programs\\python\\python38\\lib\\site-packages (from yolov5) (3.1.31)\n",
      "Requirement already satisfied: PyYAML>=5.3.1 in c:\\users\\yadav\\appdata\\local\\programs\\python\\python38\\lib\\site-packages (from yolov5) (6.0)\n",
      "Requirement already satisfied: torchvision>=0.8.1 in c:\\users\\yadav\\appdata\\local\\programs\\python\\python38\\lib\\site-packages (from yolov5) (0.15.1)\n",
      "Requirement already satisfied: fire in c:\\users\\yadav\\appdata\\local\\programs\\python\\python38\\lib\\site-packages (from yolov5) (0.5.0)\n",
      "Requirement already satisfied: numpy>=1.18.5 in c:\\users\\yadav\\appdata\\local\\programs\\python\\python38\\lib\\site-packages (from yolov5) (1.24.2)\n",
      "Requirement already satisfied: psutil in c:\\users\\yadav\\appdata\\local\\programs\\python\\python38\\lib\\site-packages (from yolov5) (5.9.4)\n",
      "Requirement already satisfied: sahi>=0.11.10 in c:\\users\\yadav\\appdata\\local\\programs\\python\\python38\\lib\\site-packages (from yolov5) (0.11.13)\n",
      "Requirement already satisfied: roboflow>=0.2.29 in c:\\users\\yadav\\appdata\\local\\programs\\python\\python38\\lib\\site-packages (from yolov5) (1.0.3)\n",
      "Requirement already satisfied: matplotlib>=3.2.2 in c:\\users\\yadav\\appdata\\local\\programs\\python\\python38\\lib\\site-packages (from yolov5) (3.7.1)\n",
      "Requirement already satisfied: tqdm>=4.64.0 in c:\\users\\yadav\\appdata\\local\\programs\\python\\python38\\lib\\site-packages (from yolov5) (4.65.0)\n",
      "Requirement already satisfied: scipy>=1.4.1 in c:\\users\\yadav\\appdata\\local\\programs\\python\\python38\\lib\\site-packages (from yolov5) (1.9.1)\n",
      "Requirement already satisfied: seaborn>=0.11.0 in c:\\users\\yadav\\appdata\\local\\programs\\python\\python38\\lib\\site-packages (from yolov5) (0.12.2)\n",
      "Requirement already satisfied: thop>=0.1.1 in c:\\users\\yadav\\appdata\\local\\programs\\python\\python38\\lib\\site-packages (from yolov5) (0.1.1.post2209072238)\n",
      "Requirement already satisfied: huggingface-hub>=0.12.0 in c:\\users\\yadav\\appdata\\local\\programs\\python\\python38\\lib\\site-packages (from yolov5) (0.13.4)\n",
      "Requirement already satisfied: pandas>=1.1.4 in c:\\users\\yadav\\appdata\\local\\programs\\python\\python38\\lib\\site-packages (from yolov5) (2.0.0)\n",
      "Requirement already satisfied: Pillow>=7.1.2 in c:\\users\\yadav\\appdata\\local\\programs\\python\\python38\\lib\\site-packages (from yolov5) (9.5.0)\n",
      "Requirement already satisfied: boto3>=1.19.1 in c:\\users\\yadav\\appdata\\local\\programs\\python\\python38\\lib\\site-packages (from yolov5) (1.26.110)\n",
      "Requirement already satisfied: ipython in c:\\users\\yadav\\appdata\\local\\programs\\python\\python38\\lib\\site-packages (from yolov5) (8.12.0)\n",
      "Requirement already satisfied: s3transfer<0.7.0,>=0.6.0 in c:\\users\\yadav\\appdata\\local\\programs\\python\\python38\\lib\\site-packages (from boto3>=1.19.1->yolov5) (0.6.0)\n",
      "Requirement already satisfied: botocore<1.30.0,>=1.29.110 in c:\\users\\yadav\\appdata\\local\\programs\\python\\python38\\lib\\site-packages (from boto3>=1.19.1->yolov5) (1.29.110)\n",
      "Requirement already satisfied: jmespath<2.0.0,>=0.7.1 in c:\\users\\yadav\\appdata\\local\\programs\\python\\python38\\lib\\site-packages (from boto3>=1.19.1->yolov5) (1.0.1)\n",
      "Requirement already satisfied: packaging>=20.9 in c:\\users\\yadav\\appdata\\local\\programs\\python\\python38\\lib\\site-packages (from huggingface-hub>=0.12.0->yolov5) (23.0)\n",
      "Requirement already satisfied: filelock in c:\\users\\yadav\\appdata\\local\\programs\\python\\python38\\lib\\site-packages (from huggingface-hub>=0.12.0->yolov5) (3.11.0)\n",
      "Requirement already satisfied: typing-extensions>=3.7.4.3 in c:\\users\\yadav\\appdata\\local\\programs\\python\\python38\\lib\\site-packages (from huggingface-hub>=0.12.0->yolov5) (4.5.0)\n",
      "Requirement already satisfied: cycler>=0.10 in c:\\users\\yadav\\appdata\\local\\programs\\python\\python38\\lib\\site-packages (from matplotlib>=3.2.2->yolov5) (0.10.0)\n",
      "Requirement already satisfied: fonttools>=4.22.0 in c:\\users\\yadav\\appdata\\local\\programs\\python\\python38\\lib\\site-packages (from matplotlib>=3.2.2->yolov5) (4.39.3)\n",
      "Requirement already satisfied: contourpy>=1.0.1 in c:\\users\\yadav\\appdata\\local\\programs\\python\\python38\\lib\\site-packages (from matplotlib>=3.2.2->yolov5) (1.0.7)\n",
      "Requirement already satisfied: pyparsing>=2.3.1 in c:\\users\\yadav\\appdata\\local\\programs\\python\\python38\\lib\\site-packages (from matplotlib>=3.2.2->yolov5) (2.4.7)\n",
      "Requirement already satisfied: python-dateutil>=2.7 in c:\\users\\yadav\\appdata\\local\\programs\\python\\python38\\lib\\site-packages (from matplotlib>=3.2.2->yolov5) (2.8.2)\n",
      "Requirement already satisfied: kiwisolver>=1.0.1 in c:\\users\\yadav\\appdata\\local\\programs\\python\\python38\\lib\\site-packages (from matplotlib>=3.2.2->yolov5) (1.4.4)\n",
      "Requirement already satisfied: importlib-resources>=3.2.0 in c:\\users\\yadav\\appdata\\local\\programs\\python\\python38\\lib\\site-packages (from matplotlib>=3.2.2->yolov5) (5.12.0)\n",
      "Requirement already satisfied: tzdata>=2022.1 in c:\\users\\yadav\\appdata\\local\\programs\\python\\python38\\lib\\site-packages (from pandas>=1.1.4->yolov5) (2023.3)\n",
      "Requirement already satisfied: pytz>=2020.1 in c:\\users\\yadav\\appdata\\local\\programs\\python\\python38\\lib\\site-packages (from pandas>=1.1.4->yolov5) (2023.3)\n",
      "Requirement already satisfied: idna<4,>=2.5 in c:\\users\\yadav\\appdata\\local\\programs\\python\\python38\\lib\\site-packages (from requests>=2.23.0->yolov5) (2.10)\n",
      "Requirement already satisfied: charset-normalizer<4,>=2 in c:\\users\\yadav\\appdata\\local\\programs\\python\\python38\\lib\\site-packages (from requests>=2.23.0->yolov5) (3.1.0)\n",
      "Requirement already satisfied: urllib3<1.27,>=1.21.1 in c:\\users\\yadav\\appdata\\local\\programs\\python\\python38\\lib\\site-packages (from requests>=2.23.0->yolov5) (1.26.15)\n",
      "Requirement already satisfied: certifi>=2017.4.17 in c:\\users\\yadav\\appdata\\local\\programs\\python\\python38\\lib\\site-packages (from requests>=2.23.0->yolov5) (2022.12.7)\n",
      "Requirement already satisfied: chardet==4.0.0 in c:\\users\\yadav\\appdata\\local\\programs\\python\\python38\\lib\\site-packages (from roboflow>=0.2.29->yolov5) (4.0.0)\n",
      "Requirement already satisfied: wget in c:\\users\\yadav\\appdata\\local\\programs\\python\\python38\\lib\\site-packages (from roboflow>=0.2.29->yolov5) (3.2)\n",
      "Requirement already satisfied: python-dotenv in c:\\users\\yadav\\appdata\\local\\programs\\python\\python38\\lib\\site-packages (from roboflow>=0.2.29->yolov5) (1.0.0)\n",
      "Requirement already satisfied: requests-toolbelt in c:\\users\\yadav\\appdata\\local\\programs\\python\\python38\\lib\\site-packages (from roboflow>=0.2.29->yolov5) (0.10.1)\n",
      "Requirement already satisfied: six in c:\\users\\yadav\\appdata\\local\\programs\\python\\python38\\lib\\site-packages (from roboflow>=0.2.29->yolov5) (1.16.0)\n",
      "Requirement already satisfied: shapely>=1.8.0 in c:\\users\\yadav\\appdata\\local\\programs\\python\\python38\\lib\\site-packages (from sahi>=0.11.10->yolov5) (2.0.1)\n",
      "Requirement already satisfied: click==8.0.4 in c:\\users\\yadav\\appdata\\local\\programs\\python\\python38\\lib\\site-packages (from sahi>=0.11.10->yolov5) (8.0.4)\n",
      "Requirement already satisfied: terminaltables in c:\\users\\yadav\\appdata\\local\\programs\\python\\python38\\lib\\site-packages (from sahi>=0.11.10->yolov5) (3.1.10)\n",
      "Requirement already satisfied: pybboxes==0.1.6 in c:\\users\\yadav\\appdata\\local\\programs\\python\\python38\\lib\\site-packages (from sahi>=0.11.10->yolov5) (0.1.6)\n",
      "Requirement already satisfied: colorama in c:\\users\\yadav\\appdata\\local\\programs\\python\\python38\\lib\\site-packages (from click==8.0.4->sahi>=0.11.10->yolov5) (0.4.6)\n",
      "Requirement already satisfied: absl-py>=0.4 in c:\\users\\yadav\\appdata\\local\\programs\\python\\python38\\lib\\site-packages (from tensorboard>=2.4.1->yolov5) (1.4.0)\n",
      "Requirement already satisfied: tensorboard-data-server<0.8.0,>=0.7.0 in c:\\users\\yadav\\appdata\\local\\programs\\python\\python38\\lib\\site-packages (from tensorboard>=2.4.1->yolov5) (0.7.0)\n",
      "Requirement already satisfied: tensorboard-plugin-wit>=1.6.0 in c:\\users\\yadav\\appdata\\local\\programs\\python\\python38\\lib\\site-packages (from tensorboard>=2.4.1->yolov5) (1.8.1)\n",
      "Requirement already satisfied: setuptools>=41.0.0 in c:\\users\\yadav\\appdata\\local\\programs\\python\\python38\\lib\\site-packages (from tensorboard>=2.4.1->yolov5) (67.6.1)\n",
      "Requirement already satisfied: google-auth-oauthlib<1.1,>=0.5 in c:\\users\\yadav\\appdata\\local\\programs\\python\\python38\\lib\\site-packages (from tensorboard>=2.4.1->yolov5) (1.0.0)\n",
      "Requirement already satisfied: werkzeug>=1.0.1 in c:\\users\\yadav\\appdata\\local\\programs\\python\\python38\\lib\\site-packages (from tensorboard>=2.4.1->yolov5) (2.2.3)\n",
      "Requirement already satisfied: grpcio>=1.48.2 in c:\\users\\yadav\\appdata\\local\\programs\\python\\python38\\lib\\site-packages (from tensorboard>=2.4.1->yolov5) (1.53.0)\n",
      "Requirement already satisfied: markdown>=2.6.8 in c:\\users\\yadav\\appdata\\local\\programs\\python\\python38\\lib\\site-packages (from tensorboard>=2.4.1->yolov5) (3.4.3)\n",
      "Requirement already satisfied: protobuf>=3.19.6 in c:\\users\\yadav\\appdata\\local\\programs\\python\\python38\\lib\\site-packages (from tensorboard>=2.4.1->yolov5) (3.20.3)\n",
      "Requirement already satisfied: wheel>=0.26 in c:\\users\\yadav\\appdata\\local\\programs\\python\\python38\\lib\\site-packages (from tensorboard>=2.4.1->yolov5) (0.40.0)\n",
      "Requirement already satisfied: google-auth<3,>=1.6.3 in c:\\users\\yadav\\appdata\\local\\programs\\python\\python38\\lib\\site-packages (from tensorboard>=2.4.1->yolov5) (2.17.2)\n",
      "Requirement already satisfied: sympy in c:\\users\\yadav\\appdata\\local\\programs\\python\\python38\\lib\\site-packages (from torch>=1.7.0->yolov5) (1.11.1)\n",
      "Requirement already satisfied: networkx in c:\\users\\yadav\\appdata\\local\\programs\\python\\python38\\lib\\site-packages (from torch>=1.7.0->yolov5) (3.1)\n",
      "Requirement already satisfied: jinja2 in c:\\users\\yadav\\appdata\\local\\programs\\python\\python38\\lib\\site-packages (from torch>=1.7.0->yolov5) (3.1.2)\n",
      "Requirement already satisfied: termcolor in c:\\users\\yadav\\appdata\\local\\programs\\python\\python38\\lib\\site-packages (from fire->yolov5) (2.2.0)\n",
      "Requirement already satisfied: gitdb<5,>=4.0.1 in c:\\users\\yadav\\appdata\\local\\programs\\python\\python38\\lib\\site-packages (from gitpython->yolov5) (4.0.10)\n",
      "Requirement already satisfied: backcall in c:\\users\\yadav\\appdata\\local\\programs\\python\\python38\\lib\\site-packages (from ipython->yolov5) (0.2.0)\n",
      "Requirement already satisfied: decorator in c:\\users\\yadav\\appdata\\local\\programs\\python\\python38\\lib\\site-packages (from ipython->yolov5) (4.4.2)\n",
      "Requirement already satisfied: prompt-toolkit!=3.0.37,<3.1.0,>=3.0.30 in c:\\users\\yadav\\appdata\\local\\programs\\python\\python38\\lib\\site-packages (from ipython->yolov5) (3.0.38)\n",
      "Requirement already satisfied: pygments>=2.4.0 in c:\\users\\yadav\\appdata\\local\\programs\\python\\python38\\lib\\site-packages (from ipython->yolov5) (2.14.0)\n",
      "Requirement already satisfied: pickleshare in c:\\users\\yadav\\appdata\\local\\programs\\python\\python38\\lib\\site-packages (from ipython->yolov5) (0.7.5)\n",
      "Requirement already satisfied: traitlets>=5 in c:\\users\\yadav\\appdata\\local\\programs\\python\\python38\\lib\\site-packages (from ipython->yolov5) (5.9.0)\n",
      "Requirement already satisfied: matplotlib-inline in c:\\users\\yadav\\appdata\\local\\programs\\python\\python38\\lib\\site-packages (from ipython->yolov5) (0.1.6)\n",
      "Requirement already satisfied: stack-data in c:\\users\\yadav\\appdata\\local\\programs\\python\\python38\\lib\\site-packages (from ipython->yolov5) (0.6.2)\n",
      "Requirement already satisfied: jedi>=0.16 in c:\\users\\yadav\\appdata\\local\\programs\\python\\python38\\lib\\site-packages (from ipython->yolov5) (0.18.2)\n",
      "Requirement already satisfied: smmap<6,>=3.0.1 in c:\\users\\yadav\\appdata\\local\\programs\\python\\python38\\lib\\site-packages (from gitdb<5,>=4.0.1->gitpython->yolov5) (5.0.0)\n",
      "Requirement already satisfied: rsa<5,>=3.1.4 in c:\\users\\yadav\\appdata\\local\\programs\\python\\python38\\lib\\site-packages (from google-auth<3,>=1.6.3->tensorboard>=2.4.1->yolov5) (4.9)\n",
      "Requirement already satisfied: cachetools<6.0,>=2.0.0 in c:\\users\\yadav\\appdata\\local\\programs\\python\\python38\\lib\\site-packages (from google-auth<3,>=1.6.3->tensorboard>=2.4.1->yolov5) (5.3.0)\n",
      "Requirement already satisfied: pyasn1-modules>=0.2.1 in c:\\users\\yadav\\appdata\\local\\programs\\python\\python38\\lib\\site-packages (from google-auth<3,>=1.6.3->tensorboard>=2.4.1->yolov5) (0.2.8)\n",
      "Requirement already satisfied: requests-oauthlib>=0.7.0 in c:\\users\\yadav\\appdata\\local\\programs\\python\\python38\\lib\\site-packages (from google-auth-oauthlib<1.1,>=0.5->tensorboard>=2.4.1->yolov5) (1.3.1)\n",
      "Requirement already satisfied: zipp>=3.1.0 in c:\\users\\yadav\\appdata\\local\\programs\\python\\python38\\lib\\site-packages (from importlib-resources>=3.2.0->matplotlib>=3.2.2->yolov5) (3.15.0)\n",
      "Requirement already satisfied: parso<0.9.0,>=0.8.0 in c:\\users\\yadav\\appdata\\local\\programs\\python\\python38\\lib\\site-packages (from jedi>=0.16->ipython->yolov5) (0.8.3)\n",
      "Requirement already satisfied: importlib-metadata>=4.4 in c:\\users\\yadav\\appdata\\local\\programs\\python\\python38\\lib\\site-packages (from markdown>=2.6.8->tensorboard>=2.4.1->yolov5) (6.2.0)\n",
      "Requirement already satisfied: wcwidth in c:\\users\\yadav\\appdata\\local\\programs\\python\\python38\\lib\\site-packages (from prompt-toolkit!=3.0.37,<3.1.0,>=3.0.30->ipython->yolov5) (0.2.6)\n",
      "Requirement already satisfied: MarkupSafe>=2.1.1 in c:\\users\\yadav\\appdata\\local\\programs\\python\\python38\\lib\\site-packages (from werkzeug>=1.0.1->tensorboard>=2.4.1->yolov5) (2.1.2)\n",
      "Requirement already satisfied: asttokens>=2.1.0 in c:\\users\\yadav\\appdata\\local\\programs\\python\\python38\\lib\\site-packages (from stack-data->ipython->yolov5) (2.2.1)\n",
      "Requirement already satisfied: executing>=1.2.0 in c:\\users\\yadav\\appdata\\local\\programs\\python\\python38\\lib\\site-packages (from stack-data->ipython->yolov5) (1.2.0)\n",
      "Requirement already satisfied: pure-eval in c:\\users\\yadav\\appdata\\local\\programs\\python\\python38\\lib\\site-packages (from stack-data->ipython->yolov5) (0.2.2)\n",
      "Requirement already satisfied: mpmath>=0.19 in c:\\users\\yadav\\appdata\\local\\programs\\python\\python38\\lib\\site-packages (from sympy->torch>=1.7.0->yolov5) (1.3.0)\n",
      "Requirement already satisfied: pyasn1<0.5.0,>=0.4.6 in c:\\users\\yadav\\appdata\\local\\programs\\python\\python38\\lib\\site-packages (from pyasn1-modules>=0.2.1->google-auth<3,>=1.6.3->tensorboard>=2.4.1->yolov5) (0.4.8)\n",
      "Requirement already satisfied: oauthlib>=3.0.0 in c:\\users\\yadav\\appdata\\local\\programs\\python\\python38\\lib\\site-packages (from requests-oauthlib>=0.7.0->google-auth-oauthlib<1.1,>=0.5->tensorboard>=2.4.1->yolov5) (3.2.2)\n"
     ]
    }
   ],
   "source": [
    "!pip install yolov5\n"
   ]
  },
  {
   "cell_type": "code",
   "execution_count": null,
   "id": "abd406a5-ce32-439f-aaa1-690b9a642af2",
   "metadata": {},
   "outputs": [],
   "source": []
  }
 ],
 "metadata": {
  "kernelspec": {
   "display_name": "Python 3 (ipykernel)",
   "language": "python",
   "name": "python3"
  },
  "language_info": {
   "codemirror_mode": {
    "name": "ipython",
    "version": 3
   },
   "file_extension": ".py",
   "mimetype": "text/x-python",
   "name": "python",
   "nbconvert_exporter": "python",
   "pygments_lexer": "ipython3",
   "version": "3.8.0"
  }
 },
 "nbformat": 4,
 "nbformat_minor": 5
}
